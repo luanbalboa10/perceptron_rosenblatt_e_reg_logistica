{
  "cells": [
    {
      "cell_type": "markdown",
      "metadata": {
        "id": "gXems7TEBx-S"
      },
      "source": [
        "Para abrir o notebook no Google Colab, altere o domínio `github.com` para `githubtocolab.com`"
      ]
    },
    {
      "cell_type": "markdown",
      "metadata": {
        "id": "VnMaGQIk17dl"
      },
      "source": [
        "<div class=\"alert alert-block alert-danger\">\n",
        "Para praticar programação, é importante que você erre, leia as mensagens de erro e tente corrigí-los.\n",
        "    \n",
        "Dessa forma, no Google Colab, é importante que você DESATIVE OS RECURSOS DE AUTOCOMPLETAR:\n",
        "\n",
        "- Menu Ferramentas -> Configurações\n",
        "- Na janela que é aberta:\n",
        "  - Seção Editor -> Desativar \"Mostrar sugestões de preenchimento de código com base no contexto\"\n",
        "  - Seção Assistência de IA -> Desabilitar itens\n",
        "\n",
        "Na versão em inglês:\n",
        "\n",
        "- Menu Tools -> Settings\n",
        "- Na janela que é aberta:\n",
        "  - Seção Editor -> Desativar \"Show context-powered code completions\"\n",
        "  - Seção AI Assistance -> Desabilitar itens\n",
        "</div>"
      ]
    },
    {
      "cell_type": "markdown",
      "metadata": {
        "id": "YONAgLYZB24h"
      },
      "source": [
        "# PSI5892 - Aula de Exercícios"
      ]
    },
    {
      "cell_type": "markdown",
      "metadata": {
        "id": "zPRGwQ33DzfZ"
      },
      "source": [
        "# Perceptron de Rosenblatt e Regressão Logística"
      ]
    },
    {
      "cell_type": "markdown",
      "metadata": {
        "id": "6w_seLEv17dn"
      },
      "source": [
        "# Exercício 1"
      ]
    },
    {
      "cell_type": "markdown",
      "metadata": {
        "id": "kZsXgAv7CYKi"
      },
      "source": [
        "Neste exercício vamos utilizar o neurônio de Rosenblatt para implementar a função lógica AND.\n",
        "\n",
        "Iniciamos importando as bibliotecas necessárias para implementar o neurônio de Rosenblatt."
      ]
    },
    {
      "cell_type": "code",
      "execution_count": 2,
      "metadata": {
        "id": "bbXUGttSUecW"
      },
      "outputs": [],
      "source": [
        "import numpy as np\n",
        "import matplotlib.pyplot as plt"
      ]
    },
    {
      "cell_type": "markdown",
      "metadata": {
        "id": "j-YtmnIlCmV6"
      },
      "source": [
        "Vamos gerar os dados de treinamento do problema começando pelo AND."
      ]
    },
    {
      "cell_type": "markdown",
      "metadata": {
        "id": "7oXZxOupDzfb"
      },
      "source": [
        "<div class=\"alert alert-block alert-success\">\n",
        "Complete o código a seguir:\n",
        "</div>"
      ]
    },
    {
      "cell_type": "code",
      "execution_count": 12,
      "metadata": {
        "id": "HwDABZUlUecY",
        "outputId": "61f4f329-114b-4c0a-891d-f62a4b602719",
        "colab": {
          "base_uri": "https://localhost:8080/"
        }
      },
      "outputs": [
        {
          "output_type": "stream",
          "name": "stdout",
          "text": [
            "[[0 1]\n",
            " [0 1]\n",
            " [0 0]\n",
            " [1 0]\n",
            " [0 1]\n",
            " [0 0]\n",
            " [1 0]\n",
            " [0 1]\n",
            " [1 0]\n",
            " [1 1]\n",
            " [1 1]\n",
            " [1 1]\n",
            " [0 1]\n",
            " [1 1]\n",
            " [1 0]\n",
            " [0 1]\n",
            " [1 0]\n",
            " [0 0]\n",
            " [0 1]\n",
            " [1 0]\n",
            " [0 0]\n",
            " [1 0]\n",
            " [0 0]\n",
            " [1 1]\n",
            " [0 0]\n",
            " [1 0]\n",
            " [0 1]\n",
            " [1 0]\n",
            " [0 0]\n",
            " [0 0]\n",
            " [0 1]\n",
            " [1 1]\n",
            " [1 1]\n",
            " [0 1]\n",
            " [1 1]\n",
            " [1 1]\n",
            " [1 0]\n",
            " [1 1]\n",
            " [1 0]\n",
            " [1 1]\n",
            " [1 0]\n",
            " [0 0]\n",
            " [0 0]\n",
            " [1 1]\n",
            " [1 0]\n",
            " [0 0]\n",
            " [0 1]\n",
            " [1 0]\n",
            " [1 1]\n",
            " [0 0]\n",
            " [0 0]\n",
            " [1 0]\n",
            " [1 0]\n",
            " [1 0]\n",
            " [1 1]\n",
            " [0 1]\n",
            " [1 1]\n",
            " [0 1]\n",
            " [1 0]\n",
            " [0 1]\n",
            " [0 0]\n",
            " [1 1]\n",
            " [1 1]\n",
            " [0 0]\n",
            " [0 1]\n",
            " [1 1]\n",
            " [0 0]\n",
            " [0 1]\n",
            " [0 1]\n",
            " [1 1]\n",
            " [0 0]\n",
            " [0 1]\n",
            " [1 1]\n",
            " [1 0]\n",
            " [1 1]\n",
            " [1 1]\n",
            " [1 1]\n",
            " [1 0]\n",
            " [1 0]\n",
            " [0 1]\n",
            " [1 1]\n",
            " [1 0]\n",
            " [0 0]\n",
            " [1 0]\n",
            " [1 0]\n",
            " [0 0]\n",
            " [0 0]\n",
            " [0 0]\n",
            " [0 0]\n",
            " [1 1]\n",
            " [1 1]\n",
            " [0 1]\n",
            " [1 0]\n",
            " [1 1]\n",
            " [1 1]\n",
            " [0 0]\n",
            " [1 0]\n",
            " [0 1]\n",
            " [1 1]\n",
            " [0 1]]\n",
            "[0 0 0 0 0 0 0 0 0 1 1 1 0 1 0 0 0 0 0 0 0 0 0 1 0 0 0 0 0 0 0 1 1 0 1 1 0\n",
            " 1 0 1 0 0 0 1 0 0 0 0 1 0 0 0 0 0 1 0 1 0 0 0 0 1 1 0 0 1 0 0 0 1 0 0 1 0\n",
            " 1 1 1 0 0 0 1 0 0 0 0 0 0 0 0 1 1 0 0 1 1 0 0 0 1 0]\n"
          ]
        }
      ],
      "source": [
        "Nt = 100  # número de pontos de treinamento\n",
        "\n",
        "#############\n",
        "# x deve ser uma matriz com Nt linhas e 2 colunas com valores 0 ou 1 aleatórios,\n",
        "# que pode ser gerada usando as funções np.round e np.random.uniform.\n",
        "# d deve ser um vetor coluna com Nt linhas contendo o resultado da função lógica\n",
        "# AND aplicada ao vetor x. Para isso use a função np.logical_and.\n",
        "# Note que a função np.logical_and devolve um vetor com elementos do tipo boolean.\n",
        "# Para transformar os elementos para o tipo inteiro, basta multiplicá-lo por 1\n",
        "# ou usar o método .astype(int)\n",
        "\n",
        "x = np.random.uniform(0, 1, (Nt, 2))\n",
        "x = 1*(x > 0.5)\n",
        "d = 1*(np.logical_and(x[:, 0], x[:, 1]))\n",
        "\n",
        "print(x)\n",
        "print(d)\n",
        "\n",
        "\n",
        "#############"
      ]
    },
    {
      "cell_type": "markdown",
      "metadata": {
        "id": "DdQnGc9XJJq7"
      },
      "source": [
        "A função a seguir implementa o neurônio de Rosenblatt no modo mini-batch. Modifique o programa do algoritmo LMS no modo mini- inserindo a função de ativação.\n",
        "Para obter 0 ou 1 na saída, deve-se usar a função degrau em vez da função sinal. Para isso, use a função `np.heaviside`.\n",
        "Uma outra modificação que deve ser considerada é a inicialização dos pesos e bias, que agora devem ser inicializados com valores aleatórios uniformemente distribuídos no intervalo [-dw, dw]."
      ]
    },
    {
      "cell_type": "markdown",
      "metadata": {
        "id": "wbN1OJVbDzfc"
      },
      "source": [
        "<div class=\"alert alert-block alert-success\">\n",
        "Complete o código a seguir:\n",
        "</div>"
      ]
    },
    {
      "cell_type": "code",
      "execution_count": 44,
      "metadata": {
        "id": "SsWVWo60aXxs"
      },
      "outputs": [],
      "source": [
        "def Rosenblatt_minibatch(x, d, eta, Nt, Ne, Nb, dw):\n",
        "    \"\"\"\n",
        "    W = Rosenblatt_minibatch(x, d, eta, Nt, Ne, Nb)\n",
        "    x: sinal de entrada\n",
        "    d: sinal desejado\n",
        "    eta: passo de adaptação\n",
        "    Nt: número de dados de treinamento\n",
        "    Ne: número de épocas\n",
        "    Nb: tamanho do mini-batch\n",
        "    dw: inicialização dos pesos e bias com distribuição uniforme no invervalo [-dw, dw]\n",
        "    \"\"\"\n",
        "    \"\"\"\n",
        "    Novamente, vamos juntar o sinal de entrada e o sinal desejado em um único vetor,\n",
        "    uma vez que a cada época vamos embaralhar os dados.\n",
        "    Ao fazer isso, já inserimos uma coluna de 1's para levar em conta o bias.\n",
        "    \"\"\"\n",
        "    #############\n",
        "\n",
        "    M = x.shape[1]\n",
        "\n",
        "    Nmb = int(np.floor(Nt / Nb))\n",
        "\n",
        "    # Inicializa o vetor de histórico de pesos com valores aleatórios\n",
        "    # uniformemente distribuídos no intervalo [-dw, dw]\n",
        "    W = np.zeros((Ne * Nmb + 1, M + 1))\n",
        "    W[0, :] = np.random.uniform(-dw, dw, (1, M + 1))\n",
        "\n",
        "    # Junta bias, dados de entrada (x) e sinal desejado (d)\n",
        "    d = d.reshape(-1, 1)\n",
        "    Xd = np.hstack((np.ones((Nt, 1)), x, d))\n",
        "\n",
        "    # Passo de adaptação dividido por Nb\n",
        "    eta = eta / Nb\n",
        "\n",
        "    for k in range(Ne):\n",
        "      # Embaralha os dados de treinamento junto com os rótulos a cada época\n",
        "      np.random.shuffle(Xd)\n",
        "\n",
        "      x = Xd[:, 0 : M + 1]\n",
        "      d = Xd[:, [M + 1]]\n",
        "\n",
        "      for l in range(Nmb):\n",
        "\n",
        "        # Pega os dados de treinamento (sinal de entrada e sinal desejado) do mini-batch atual\n",
        "        dmb = d[(l * Nb):(l + 1) * Nb]\n",
        "        xmb = x[(l * Nb):(l + 1) * Nb, :]\n",
        "\n",
        "        m = k * Nmb + l\n",
        "\n",
        "        # Vetor de pesos da iteração anterior\n",
        "        w = W[m, :].reshape(-1, 1)\n",
        "\n",
        "        # Saída\n",
        "        v = xmb @ w\n",
        "\n",
        "        # Calcula a saída utilizando a função de ativação\n",
        "        # função de ativação -> função degrau (heaviside)\n",
        "        y = np.heaviside(v, 0)\n",
        "\n",
        "        # Erro do mini-batch\n",
        "        emb = dmb - y\n",
        "\n",
        "        # Atualiza os pesos\n",
        "        W[[m + 1], :] = (w + eta * (xmb.T @ emb)).T\n",
        "\n",
        "    return W\n",
        "    #############\n",
        "\n"
      ]
    },
    {
      "cell_type": "code",
      "execution_count": 45,
      "metadata": {
        "id": "OQfbxggUUeca",
        "outputId": "b5ac28f8-20b9-40fe-ac7f-2d8629a7b26b",
        "colab": {
          "base_uri": "https://localhost:8080/"
        }
      },
      "outputs": [
        {
          "output_type": "stream",
          "name": "stdout",
          "text": [
            "[-0.37754434  0.30847981  0.18866443]\n"
          ]
        }
      ],
      "source": [
        "eta = 0.5  # passo de adaptação do algoritmo de Rosenblatt\n",
        "Nb = 20\n",
        "Ne = 100\n",
        "dw = 2\n",
        "\n",
        "#############  Complete o código a seguir\n",
        "W = Rosenblatt_minibatch(x, d, eta, Nt, Ne, Nb, dw)\n",
        "\n",
        "# Wfinal deve ser os valores de pesos e bias da última iteração\n",
        "Wfinal = W[-1, :]\n",
        "print(Wfinal)\n",
        "#############"
      ]
    },
    {
      "cell_type": "markdown",
      "metadata": {
        "id": "2-LsVdceDzfc"
      },
      "source": [
        "<div class=\"alert alert-block alert-success\">\n",
        "Complete o código a seguir:\n",
        "</div>"
      ]
    },
    {
      "cell_type": "code",
      "execution_count": 46,
      "metadata": {
        "id": "ng4gDTrILTVT",
        "outputId": "d932227d-e380-49c9-9bd5-fbc48093192d",
        "colab": {
          "base_uri": "https://localhost:8080/",
          "height": 507
        }
      },
      "outputs": [
        {
          "output_type": "stream",
          "name": "stdout",
          "text": [
            "5\n"
          ]
        },
        {
          "output_type": "execute_result",
          "data": {
            "text/plain": [
              "Text(0.5, 1.0, 'Pesos de Rosenblatt no modo mini-batch (em preto)')"
            ]
          },
          "metadata": {},
          "execution_count": 46
        },
        {
          "output_type": "display_data",
          "data": {
            "text/plain": [
              "<Figure size 640x480 with 1 Axes>"
            ],
            "image/png": "[encoded data removed]"
          },
          "metadata": {}
        }
      ],
      "source": [
        "# Gere um gráfico para mostrar os pesos e bias ao longo das iterações\n",
        "Nmb = int(np.floor(Nt / Nb))\n",
        "print(Nmb)\n",
        "plt.plot(W, \"k\", label=\"Rosenblatt\")\n",
        "plt.xlabel(\"iterações\")\n",
        "plt.ylabel(\"pesos\")\n",
        "plt.grid(axis=\"x\", color=\"0.5\")\n",
        "plt.grid(axis=\"y\", color=\"0.5\")\n",
        "plt.title(\n",
        "    \"Pesos de Rosenblatt no modo mini-batch (em preto)\"\n",
        ")"
      ]
    },
    {
      "cell_type": "markdown",
      "metadata": {
        "id": "uASv_CQIDzfd"
      },
      "source": [
        "<div class=\"alert alert-block alert-success\">\n",
        "Complete o código a seguir:\n",
        "</div>"
      ]
    },
    {
      "cell_type": "code",
      "execution_count": 50,
      "metadata": {
        "id": "RNKpIjMzUecb",
        "outputId": "9aa26ec5-e9f8-4b1f-82d1-8bbd137d6a7f",
        "colab": {
          "base_uri": "https://localhost:8080/",
          "height": 465
        }
      },
      "outputs": [
        {
          "output_type": "stream",
          "name": "stdout",
          "text": [
            "Taxa de erro: 0.00%\n"
          ]
        },
        {
          "output_type": "execute_result",
          "data": {
            "text/plain": [
              "[<matplotlib.lines.Line2D at 0x7dd5e41a7b00>]"
            ]
          },
          "metadata": {},
          "execution_count": 50
        },
        {
          "output_type": "display_data",
          "data": {
            "text/plain": [
              "<Figure size 640x480 with 1 Axes>"
            ],
            "image/png": "[encoded data removed]"
          },
          "metadata": {}
        }
      ],
      "source": [
        "# Gere os dados de teste, calcule a taxa de erro e gere a reta de separação das\n",
        "# regiões, mostrando em um mesmo gráfico a reta e os dados de teste classificados.\n",
        "# Comente o resultado, explicando se é possível utilizar o neurônio de Rosenblatt\n",
        "# para implementar esta função lógica.\n",
        "\n",
        "N_teste = 20 # número de pontos de teste\n",
        "\n",
        "x_teste = np.random.uniform(0, 1, (N_teste, 2))\n",
        "x_teste = 1*(x_teste > 0.5)\n",
        "d_teste = 1*(np.logical_and(x_teste[:, 0], x_teste[:, 1]))\n",
        "\n",
        "# Inserindo 1's no vetor de entrada\n",
        "b = np.ones((N_teste, 1))\n",
        "x_teste = np.hstack((b, x_teste))\n",
        "v_teste = x_teste @ Wfinal\n",
        "y_teste = np.heaviside(v_teste, 0)\n",
        "\n",
        "# Taxa de erro\n",
        "Taxa_de_erro = 100 - np.mean(y_teste == d_teste) * 100\n",
        "\n",
        "print(f\"Taxa de erro: {Taxa_de_erro:.2f}%\")\n",
        "\n",
        "\n",
        "# Gera a curva de separação das duas regiões\n",
        "# Dados da curva de separação\n",
        "Nsep = 100\n",
        "x1S = np.linspace(-0.5, 1.5, Nsep).reshape(-1, 1)\n",
        "x2S = np.linspace(-0.5, 1.5, Nsep).reshape(-1, 1)\n",
        "\n",
        "# Gera pontos da grade\n",
        "xx1S, xx2S = np.meshgrid(x1S, x2S)\n",
        "xx1S = xx1S.reshape(-1, 1)\n",
        "xx2S = xx2S.reshape(-1, 1)\n",
        "\n",
        "# Gera array x\n",
        "xgrid = np.hstack((xx1S, xx2S))\n",
        "Ngrid = len(xgrid)\n",
        "b = np.ones((Ngrid, 1))\n",
        "xgrid = np.hstack((b, xgrid))\n",
        "\n",
        "# Calcula saída para cada ponto da grade\n",
        "ygrid = np.sign(xgrid @ Wfinal)\n",
        "\n",
        "# Plota os pontos principais\n",
        "fig, ax2 = plt.subplots()\n",
        "for i in range(N_teste):\n",
        "    if d_teste[i] == 1:\n",
        "        ax2.plot(x_teste[i, 1], x_teste[i, 2], \".b\")\n",
        "    else:\n",
        "        ax2.plot(x_teste[i, 1], x_teste[i, 2], \".r\")\n",
        "\n",
        "# Plota pontos da grade com saída -1 (usa transparência alpha)\n",
        "l0 = np.where(ygrid == -1)[0]\n",
        "ax2.plot(xgrid[l0, 1], xgrid[l0, 2], \"r.\", alpha=0.1)\n",
        "\n",
        "# Plota pontos da grade com saída 1 (usa transparência alpha)\n",
        "l1 = np.where(ygrid == 1)[0]\n",
        "ax2.plot(xgrid[l1, 1], xgrid[l1, 2], \"b.\", alpha=0.1)\n",
        "#############\n",
        "\n"
      ]
    },
    {
      "cell_type": "markdown",
      "source": [
        "### Comentários\n",
        "\n",
        "Podemos ver pela reta de separação que é possível utilizar o neurônio de Rosenblatt para implementar a função lógica de AND. A fronteira de separação decorrente dos valores do vetor de pesos e bias neste caso é uma reta e conseguiu separar o par (1, 1) que pertence a classe 1 (saída +1) dos pares {(0, 0), (0, 1), (1, 0)} que pertence a classe 0 (saída 0)."
      ],
      "metadata": {
        "id": "6DbVt3_WB3tK"
      }
    },
    {
      "cell_type": "markdown",
      "metadata": {
        "id": "lZAVk0xt17dq"
      },
      "source": [
        "# Exercício 2\n",
        "\n",
        "Repita o exercício anterior considerando as portas lógicas OR e o XOR.\n",
        "\n",
        "## Resolução"
      ]
    },
    {
      "cell_type": "code",
      "source": [
        "Nt = 100  # número de pontos de treinamento\n",
        "\n",
        "#############\n",
        "# x deve ser uma matriz com Nt linhas e 2 colunas com valores 0 ou 1 aleatórios,\n",
        "# que pode ser gerada usando as funções np.round e np.random.uniform.\n",
        "# d deve ser um vetor coluna com Nt linhas contendo o resultado da função lógica\n",
        "# AND aplicada ao vetor x. Para isso use a função np.logical_and.\n",
        "# Note que a função np.logical_and devolve um vetor com elementos do tipo boolean.\n",
        "# Para transformar os elementos para o tipo inteiro, basta multiplicá-lo por 1\n",
        "# ou usar o método .astype(int)\n",
        "\n",
        "# Considerando a porta lógica OR\n",
        "x = np.random.uniform(0, 1, (Nt, 2))\n",
        "x = 1*(x > 0.5)\n",
        "d = 1*(np.logical_or(x[:, 0], x[:, 1]))\n",
        "#############"
      ],
      "metadata": {
        "id": "DilX67m7FHfV"
      },
      "execution_count": 52,
      "outputs": []
    },
    {
      "cell_type": "markdown",
      "metadata": {
        "id": "LAemFX-317dq"
      },
      "source": [
        "# Exercício 3\n",
        "\n",
        "Repita o exercício para as portas lógicas AND, OR e XOR considerando a otimização do modelo utilizando a regressão logística com as seguintes funções custo:\n",
        "- Erro quadrático médio\n",
        "- Entropia cruzada\n",
        "\n",
        "## Resolução"
      ]
    },
    {
      "cell_type": "code",
      "execution_count": null,
      "metadata": {
        "id": "pkKiqVav17dq"
      },
      "outputs": [],
      "source": []
    }
  ],
  "metadata": {
    "colab": {
      "provenance": []
    },
    "kernelspec": {
      "display_name": "Python 3 (ipykernel)",
      "language": "python",
      "name": "python3"
    },
    "language_info": {
      "codemirror_mode": {
        "name": "ipython",
        "version": 3
      },
      "file_extension": ".py",
      "mimetype": "text/x-python",
      "name": "python",
      "nbconvert_exporter": "python",
      "pygments_lexer": "ipython3",
      "version": "3.12.11"
    }
  },
  "nbformat": 4,
  "nbformat_minor": 0
}